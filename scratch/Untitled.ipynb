{
 "cells": [
  {
   "cell_type": "code",
   "execution_count": 1,
   "id": "ca38b2df",
   "metadata": {},
   "outputs": [],
   "source": [
    "import numpy"
   ]
  },
  {
   "cell_type": "code",
   "execution_count": null,
   "id": "354a14ef-1cdb-484f-8613-4888557f02a0",
   "metadata": {},
   "outputs": [],
   "source": [
    "#Create and run the monitor/analyser\n",
    "bold_model = bold.BalloonModel(time_series = tsr)\n",
    "#bold_data  = bold_model.evaluate()"
   ]
  },
  {
   "cell_type": "code",
   "execution_count": 2,
   "id": "edac9dfa-9c92-4e47-ac22-0b7c6a16d930",
   "metadata": {},
   "outputs": [],
   "source": [
    "def balloon_dfun(self, state_variables, neural_input, local_coupling=0.0):\n",
    "    r\"\"\"\n",
    "    The Balloon model equations. See Eqs. (4-10) in [Stephan2007]_\n",
    "    .. math::\n",
    "            \\frac{ds}{dt} &= x - \\kappa\\,s - \\gamma \\,(f-1) \\\\\n",
    "            \\frac{df}{dt} &= s \\\\\n",
    "            \\frac{dv}{dt} &= \\frac{1}{\\tau_o} \\, (f - v^{1/\\alpha})\\\\\n",
    "            \\frac{dq}{dt} &= \\frac{1}{\\tau_o}(f \\, \\frac{1-(1-E_0)^{1/\\alpha}}{E_0} - v^{&/\\alpha} \\frac{q}{v})\\\\\n",
    "            \\kappa &= \\frac{1}{\\tau_s}\\\\\n",
    "            \\gamma &= \\frac{1}{\\tau_f}\n",
    "    \"\"\"\n",
    "\n",
    "    s = state_variables[0, :]\n",
    "    f = state_variables[1, :]\n",
    "    v = state_variables[2, :]\n",
    "    q = state_variables[3, :]\n",
    "\n",
    "    x = neural_input[0, :]\n",
    "\n",
    "    ds = x - (1. / self.tau_s) * s - (1. / self.tau_f) * (f - 1)\n",
    "    df = s\n",
    "    dv = (1. / self.tau_o) * (f - v ** (1. / self.alpha))\n",
    "    dq = (1. / self.tau_o) * ((f * (1. - (1. - self.E0) ** (1. / f)) / self.E0) -\n",
    "                              (v ** (1. / self.alpha)) * (q / v))\n",
    "\n",
    "    return numpy.array([ds, df, dv, dq])"
   ]
  },
  {
   "cell_type": "code",
   "execution_count": null,
   "id": "3b142c93",
   "metadata": {},
   "outputs": [],
   "source": []
  }
 ],
 "metadata": {
  "kernelspec": {
   "display_name": "tvb-mac",
   "language": "python",
   "name": "tvb-mac"
  },
  "language_info": {
   "codemirror_mode": {
    "name": "ipython",
    "version": 3
   },
   "file_extension": ".py",
   "mimetype": "text/x-python",
   "name": "python",
   "nbconvert_exporter": "python",
   "pygments_lexer": "ipython3",
   "version": "3.7.13"
  }
 },
 "nbformat": 4,
 "nbformat_minor": 5
}
