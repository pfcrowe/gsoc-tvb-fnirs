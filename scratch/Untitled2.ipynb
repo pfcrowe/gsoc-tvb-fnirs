{
 "cells": [
  {
   "cell_type": "code",
   "execution_count": 1,
   "id": "6a4210dc",
   "metadata": {},
   "outputs": [
    {
     "ename": "ModuleNotFoundError",
     "evalue": "No module named 'numpy'",
     "output_type": "error",
     "traceback": [
      "\u001b[0;31m---------------------------------------------------------------------------\u001b[0m",
      "\u001b[0;31mModuleNotFoundError\u001b[0m                       Traceback (most recent call last)",
      "Input \u001b[0;32mIn [1]\u001b[0m, in \u001b[0;36m<cell line: 1>\u001b[0;34m()\u001b[0m\n\u001b[0;32m----> 1\u001b[0m \u001b[38;5;28;01mimport\u001b[39;00m \u001b[38;5;21;01mnumpy\u001b[39;00m\n",
      "\u001b[0;31mModuleNotFoundError\u001b[0m: No module named 'numpy'"
     ]
    }
   ],
   "source": [
    "import numpy"
   ]
  },
  {
   "cell_type": "code",
   "execution_count": 1,
   "id": "e2f08473",
   "metadata": {},
   "outputs": [],
   "source": [
    "import numpy"
   ]
  },
  {
   "cell_type": "code",
   "execution_count": 2,
   "id": "10c5f007",
   "metadata": {},
   "outputs": [],
   "source": [
    "import sys"
   ]
  },
  {
   "cell_type": "code",
   "execution_count": 3,
   "id": "d391fbee",
   "metadata": {},
   "outputs": [
    {
     "name": "stdout",
     "output_type": "stream",
     "text": [
      "/Users/pfc/projects/tvb-fnirs/scratch\n",
      "/Users/pfc/miniconda3/envs/case-studies/lib/python37.zip\n",
      "/Users/pfc/miniconda3/envs/case-studies/lib/python3.7\n",
      "/Users/pfc/miniconda3/envs/case-studies/lib/python3.7/lib-dynload\n",
      "\n",
      "/Users/pfc/.local/lib/python3.7/site-packages\n",
      "/Users/pfc/Documents/GitHub/tvb-root/tvb_framework\n",
      "/Users/pfc/Documents/GitHub/tvb-root/tvb_library\n",
      "/Users/pfc/Documents/GitHub/tvb-root/tvb_storage\n",
      "/Users/pfc/Documents/GitHub/tvb-root/tvb_contrib\n",
      "/Users/pfc/Documents/GitHub/tvb-root/tvb_bin\n",
      "/Users/pfc/Documents/GitHub/tvb-root/tvb_build\n",
      "/Users/pfc/projects/tvb-fnirs/tvb-root/tvb_framework\n",
      "/Users/pfc/projects/tvb-fnirs/tvb-root/tvb_library\n",
      "/Users/pfc/projects/tvb-fnirs/tvb-root/tvb_storage\n",
      "/Users/pfc/projects/tvb-fnirs/tvb-root/tvb_contrib\n",
      "/Users/pfc/projects/tvb-fnirs/tvb-root/tvb_bin\n",
      "/Users/pfc/projects/tvb-fnirs/tvb-root/tvb_build\n",
      "/Users/pfc/miniconda3/envs/case-studies/lib/python3.7/site-packages\n",
      "/Users/pfc/miniconda3/envs/case-studies/lib/python3.7/site-packages/IPython/extensions\n",
      "/Users/pfc/.ipython\n"
     ]
    },
    {
     "data": {
      "text/plain": [
       "[None,\n",
       " None,\n",
       " None,\n",
       " None,\n",
       " None,\n",
       " None,\n",
       " None,\n",
       " None,\n",
       " None,\n",
       " None,\n",
       " None,\n",
       " None,\n",
       " None,\n",
       " None,\n",
       " None,\n",
       " None,\n",
       " None,\n",
       " None,\n",
       " None,\n",
       " None,\n",
       " None]"
      ]
     },
     "execution_count": 3,
     "metadata": {},
     "output_type": "execute_result"
    }
   ],
   "source": [
    "[print(i) for i in sys.path]"
   ]
  },
  {
   "cell_type": "code",
   "execution_count": 4,
   "id": "1da19db0",
   "metadata": {},
   "outputs": [
    {
     "data": {
      "text/plain": [
       "['/Users/pfc/projects/tvb-fnirs/scratch',\n",
       " '/Users/pfc/miniconda3/envs/case-studies/lib/python37.zip',\n",
       " '/Users/pfc/miniconda3/envs/case-studies/lib/python3.7',\n",
       " '/Users/pfc/miniconda3/envs/case-studies/lib/python3.7/lib-dynload',\n",
       " '',\n",
       " '/Users/pfc/.local/lib/python3.7/site-packages',\n",
       " '/Users/pfc/Documents/GitHub/tvb-root/tvb_framework',\n",
       " '/Users/pfc/Documents/GitHub/tvb-root/tvb_library',\n",
       " '/Users/pfc/Documents/GitHub/tvb-root/tvb_storage',\n",
       " '/Users/pfc/Documents/GitHub/tvb-root/tvb_contrib',\n",
       " '/Users/pfc/Documents/GitHub/tvb-root/tvb_bin',\n",
       " '/Users/pfc/Documents/GitHub/tvb-root/tvb_build',\n",
       " '/Users/pfc/projects/tvb-fnirs/tvb-root/tvb_framework',\n",
       " '/Users/pfc/projects/tvb-fnirs/tvb-root/tvb_library',\n",
       " '/Users/pfc/projects/tvb-fnirs/tvb-root/tvb_storage',\n",
       " '/Users/pfc/projects/tvb-fnirs/tvb-root/tvb_contrib',\n",
       " '/Users/pfc/projects/tvb-fnirs/tvb-root/tvb_bin',\n",
       " '/Users/pfc/projects/tvb-fnirs/tvb-root/tvb_build',\n",
       " '/Users/pfc/miniconda3/envs/case-studies/lib/python3.7/site-packages',\n",
       " '/Users/pfc/miniconda3/envs/case-studies/lib/python3.7/site-packages/IPython/extensions',\n",
       " '/Users/pfc/.ipython']"
      ]
     },
     "execution_count": 4,
     "metadata": {},
     "output_type": "execute_result"
    }
   ],
   "source": [
    "sys.path"
   ]
  },
  {
   "cell_type": "code",
   "execution_count": null,
   "id": "0e93bc99",
   "metadata": {},
   "outputs": [],
   "source": []
  }
 ],
 "metadata": {
  "@webio": {
   "lastCommId": null,
   "lastKernelId": null
  },
  "kernelspec": {
   "display_name": "case-studies",
   "language": "python",
   "name": "case-studies"
  },
  "language_info": {
   "codemirror_mode": {
    "name": "ipython",
    "version": 3
   },
   "file_extension": ".py",
   "mimetype": "text/x-python",
   "name": "python",
   "nbconvert_exporter": "python",
   "pygments_lexer": "ipython3",
   "version": "3.7.11"
  }
 },
 "nbformat": 4,
 "nbformat_minor": 5
}
