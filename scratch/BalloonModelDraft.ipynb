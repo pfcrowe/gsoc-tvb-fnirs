{
 "cells": [
  {
   "cell_type": "code",
   "execution_count": 161,
   "id": "559bb0f1",
   "metadata": {},
   "outputs": [
    {
     "name": "stdout",
     "output_type": "stream",
     "text": [
      "Populating the interactive namespace from numpy and matplotlib\n"
     ]
    },
    {
     "name": "stderr",
     "output_type": "stream",
     "text": [
      "/Users/pfc/miniconda3/envs/mac-distribution/lib/python3.7/site-packages/IPython/core/magics/pylab.py:160: UserWarning: pylab import has clobbered these variables: ['plt']\n",
      "`%matplotlib` prevents importing * from pylab and numpy\n",
      "  \"\\n`%matplotlib` prevents importing * from pylab and numpy\"\n"
     ]
    }
   ],
   "source": [
    "%pylab inline"
   ]
  },
  {
   "cell_type": "code",
   "execution_count": 162,
   "id": "07394d4e",
   "metadata": {},
   "outputs": [],
   "source": [
    "import numpy\n",
    "\n",
    "from tvb.simulator.lab import *\n",
    "from tvb.datatypes.time_series import TimeSeriesRegion\n",
    "import tvb.analyzers.fmri_balloon as bold\n",
    "from tvb.simulator.plot import timeseries_interactive as timeseries_interactive"
   ]
  },
  {
   "cell_type": "code",
   "execution_count": 176,
   "id": "3cc77449",
   "metadata": {},
   "outputs": [
    {
     "name": "stdout",
     "output_type": "stream",
     "text": [
      "WARNING  File 'hemispheres' not found in ZIP.\n",
      "WARNING  random_state supplied for non-stochastic integration\n",
      "   INFO  step 1 time 0.0005 s\n",
      "   INFO  step 10001 time 5.0005 s\n",
      "   INFO  step 20001 time 10.0005 s\n",
      "   INFO  step 30001 time 15.0005 s\n",
      "   INFO  step 40001 time 20.0005 s\n",
      "   INFO  step 50001 time 25.0005 s\n",
      "   INFO  step 60001 time 30.0005 s\n",
      "   INFO  step 70001 time 35.0005 s\n",
      "   INFO  step 80001 time 40.0005 s\n",
      "   INFO  step 90001 time 45.0005 s\n",
      "   INFO  step 100001 time 50.0005 s\n",
      "   INFO  step 110001 time 55.0005 s\n"
     ]
    }
   ],
   "source": [
    "conn = connectivity.Connectivity.from_file()\n",
    "\n",
    "# configure stimulus spatial pattern\n",
    "weighting = numpy.zeros((76, ))\n",
    "weighting[[0, 7, 13, 33, 42]] = numpy.array([2.0 ** -2, 2.0 ** -3, 2.0 ** -4, 2.0 ** -5, 2.0 ** -6])\n",
    "\n",
    "# temporal profile\n",
    "eqn_t = equations.Gaussian()\n",
    "eqn_t.parameters[\"midpoint\"] = 25000.0\n",
    "eqn_t.parameters[\"sigma\"] = 1.0\n",
    "\n",
    "stimulus = patterns.StimuliRegion(temporal=eqn_t,\n",
    "                                  connectivity=conn,\n",
    "                                  weight=weighting)\n",
    "\n",
    "sim = simulator.Simulator(\n",
    "    model=models.Generic2dOscillator(a=numpy.array([0.5])),\n",
    "    connectivity=conn,\n",
    "    coupling=coupling.Linear(a=numpy.array([0.0126])),\n",
    "    integrator=integrators.HeunDeterministic(dt=0.5),\n",
    "    monitors=(\n",
    "        monitors.TemporalAverage(period=1.0),\n",
    "        monitors.Bold(period=500),\n",
    "        monitors.ProgressLogger(period=5e3),\n",
    "        ),\n",
    "    stimulus=stimulus,\n",
    "    simulation_length=60e3, # 1 minute simulation\n",
    ").configure()\n",
    "\n",
    "(tavg_time, tavg_data), (bold_time, bold_data), _ = sim.run()"
   ]
  },
  {
   "cell_type": "code",
   "execution_count": 178,
   "id": "ec704378",
   "metadata": {},
   "outputs": [
    {
     "name": "stderr",
     "output_type": "stream",
     "text": [
      "/Users/pfc/Documents/GitHub/tvb-root/tvb_library/tvb/analyzers/fmri_balloon.py:314: VisibleDeprecationWarning: Creating an ndarray from ragged nested sequences (which is a list-or-tuple of lists-or-tuples-or ndarrays with different lengths or shapes) is deprecated. If you meant to do this, you must specify 'dtype=object' when creating the ndarray.\n",
      "  return numpy.array([k1, k2, k3])\n"
     ]
    }
   ],
   "source": [
    "#Make the lists numpy.arrays for easier use.\n",
    "LOG.info(\"Converting result to array...\")\n",
    "TAVG_TIME = numpy.array(tavg_time)\n",
    "BOLD_TIME = numpy.array(bold_time)\n",
    "BOLD = numpy.array(bold_data)\n",
    "TAVG = numpy.array(tavg_data)\n",
    "\n",
    "#Create TimeSeries instance\n",
    "tsr = TimeSeriesRegion(connectivity = conn,\n",
    "                       data = TAVG,\n",
    "                       time = TAVG_TIME,\n",
    "                       sample_period = 2.)\n",
    "tsr.configure()\n",
    "\n",
    "#Create and run the monitor/analyser\n",
    "bold_model = bold.BalloonModel(time_series = tsr)\n",
    "bold_data  = bold_model.evaluate()"
   ]
  },
  {
   "cell_type": "code",
   "execution_count": 179,
   "id": "2c2f9cb6",
   "metadata": {},
   "outputs": [
    {
     "data": {
      "text/plain": [
       "Text(0.5, 0, 'Time (ms)')"
      ]
     },
     "execution_count": 179,
     "metadata": {},
     "output_type": "execute_result"
    },
    {
     "data": {
      "image/png": "[encoded data removed]",
      "text/plain": [
       "<Figure size 864x576 with 1 Axes>"
      ]
     },
     "metadata": {
      "needs_background": "light"
     },
     "output_type": "display_data"
    }
   ],
   "source": [
    "plt.figure(figsize=(12,8))\n",
    "\n",
    "#plt.subplot(212)\n",
    "plt.plot(bold_data.time[25000:45000], bold_data.data[25000:45000, 0, [42], 0])\n",
    "plt.ylabel(\"BOLD\")\n",
    "\n",
    "plt.xlabel('Time (ms)')"
   ]
  },
  {
   "cell_type": "markdown",
   "id": "50f0bc6e",
   "metadata": {},
   "source": [
    "### Stephan 2007:\n",
    "\n",
    "$$\n",
    "\\frac{ds}{dt} = x - \\kappa\\,s - \\gamma \\,(f-1) \\\\\n",
    "\\frac{df}{dt} = s \\\\\n",
    "\\frac{dv}{dt} = \\frac{1}{\\tau_o} \\, (f - v^{1/\\alpha})\\\\\n",
    "\\frac{dq}{dt} = \\frac{1}{\\tau_o}(f \\, \\frac{1-(1-E_0)^{1/\\alpha}}{E_0} - v^{1/\\alpha} \\frac{q}{v})\\\\\n",
    "\\kappa = \\frac{1}{\\tau_s}\\\\\n",
    "\\gamma = \\frac{1}{\\tau_f}\n",
    "$$"
   ]
  },
  {
   "cell_type": "code",
   "execution_count": null,
   "id": "f435709d",
   "metadata": {},
   "outputs": [],
   "source": [
    "def balloon_dfun(self, state_variables, neural_input, local_coupling=0.0):\n",
    "    s = state_variables[0, :]\n",
    "    f = state_variables[1, :]\n",
    "    v = state_variables[2, :]\n",
    "    q = state_variables[3, :]\n",
    "\n",
    "    x = neural_input[0, :]\n",
    "\n",
    "    ds = x - (1. / self.tau_s) * s - (1. / self.tau_f) * (f - 1)\n",
    "    df = s\n",
    "    dv = (1. / self.tau_o) * (f - v ** (1. / self.alpha))\n",
    "    dq = (1. / self.tau_o) * ((f * (1. - (1. - self.E0) ** (1. / f)) / self.E0) -\n",
    "                              (v ** (1. / self.alpha)) * (q / v))\n",
    "\n",
    "    return numpy.array([ds, df, dv, dq])"
   ]
  },
  {
   "cell_type": "code",
   "execution_count": null,
   "id": "e3bfd398",
   "metadata": {},
   "outputs": [],
   "source": [
    "tau_s = Float(\n",
    "    label=r\":math:`\\tau_s`\",\n",
    "    default=1.54,\n",
    "    required=True,\n",
    "    doc=\"\"\"Balloon model parameter. Time of signal decay (s)\"\"\")\n",
    "\n",
    "tau_f = Float(\n",
    "    label=r\":math:`\\tau_f`\",\n",
    "    default=1.44,\n",
    "    required=True,\n",
    "    doc=\"\"\" Balloon model parameter. Time of flow-dependent elimination or\n",
    "    feedback regulation (s). The average  time blood take to traverse the\n",
    "    venous compartment. It is the  ratio of resting blood volume (V0) to\n",
    "    resting blood flow (F0).\"\"\")\n",
    "\n",
    "tau_o = Float(\n",
    "    label=r\":math:`\\tau_o`\",\n",
    "    default=0.98,\n",
    "    required=True,\n",
    "    doc=\"\"\"\n",
    "    Balloon model parameter. Haemodynamic transit time (s). The average\n",
    "    time blood take to traverse the venous compartment. It is the  ratio\n",
    "    of resting blood volume (V0) to resting blood flow (F0).\"\"\")\n",
    "\n",
    "alpha = Float(\n",
    "    label=r\":math:`\\tau_f`\",\n",
    "    default=0.32,\n",
    "    required=True,\n",
    "    doc=\"\"\"Balloon model parameter. Stiffness parameter. Grubb's exponent.\"\"\")\n",
    "\n",
    "TE = Float(\n",
    "    label=\":math:`TE`\",\n",
    "    default=0.04,\n",
    "    required=True,\n",
    "    doc=\"\"\"BOLD parameter. Echo Time\"\"\")\n",
    "\n",
    "V0 = Float(\n",
    "    label=\":math:`V_0`\",\n",
    "    default=4.0,\n",
    "    required=True,\n",
    "    doc=\"\"\"BOLD parameter. Resting blood volume fraction.\"\"\")\n",
    "\n",
    "E0 = Float(\n",
    "    label=\":math:`E_0`\",\n",
    "    default=0.4,\n",
    "    required=True,\n",
    "    doc=\"\"\"BOLD parameter. Resting oxygen extraction fraction.\"\"\")\n",
    "\n",
    "epsilon = NArray(\n",
    "    label=\":math:`\\epsilon`\",\n",
    "    default=numpy.array([0.5]),\n",
    "    domain=Range(lo=0.5, hi=2.0, step=0.25),\n",
    "    required=True,\n",
    "    doc=\"\"\" BOLD parameter. Ratio of intra- and extravascular signals. In principle  this\n",
    "    parameter could be derived from empirical data and spatialized.\"\"\")\n",
    "\n",
    "nu_0 = Float(\n",
    "    label=r\":math:`\\nu_0`\",\n",
    "    default=40.3,\n",
    "    required=True,\n",
    "    doc=\"\"\"BOLD parameter. Frequency offset at the outer surface of magnetized vessels (Hz).\"\"\")\n",
    "\n",
    "r_0 = Float(\n",
    "    label=\":math:`r_0`\",\n",
    "    default=25.,\n",
    "    required=True,\n",
    "    doc=\"\"\" BOLD parameter. Slope r0 of intravascular relaxation rate (Hz). Only used for\n",
    "    ``revised`` coefficients. \"\"\")"
   ]
  },
  {
   "cell_type": "code",
   "execution_count": 180,
   "id": "6d9528d6",
   "metadata": {},
   "outputs": [],
   "source": [
    "def mod_balloon_dfun(self, state_variables, neural_input, local_coupling=0.0):\n",
    "    s = state_variables[0, :]\n",
    "    f = state_variables[1, :]\n",
    "    v = state_variables[2, :]\n",
    "    q = state_variables[3, :]\n",
    "\n",
    "    x = neural_input[0, :]\n",
    "\n",
    "    ds = x - (1. / self.tau_s) * s - (1. / self.tau_f) * (f - 1)\n",
    "    df = s\n",
    "    dv = (1. / self.tau_o*0.5) * (f - v ** (1. / self.alpha))\n",
    "    dq = (1. / self.tau_o*0.5) * ((f * (1. - (1. - self.E0) ** (1. / f)) / self.E0) -\n",
    "                              (v ** (1. / self.alpha)) * (q / v))\n",
    "\n",
    "    return numpy.array([ds, df, dv, dq])"
   ]
  },
  {
   "cell_type": "code",
   "execution_count": 181,
   "id": "cd7d8546",
   "metadata": {},
   "outputs": [],
   "source": [
    "bold.BalloonModel.balloon_dfun = mod_balloon_dfun"
   ]
  },
  {
   "cell_type": "code",
   "execution_count": 182,
   "id": "c1b80250",
   "metadata": {},
   "outputs": [
    {
     "name": "stderr",
     "output_type": "stream",
     "text": [
      "/Users/pfc/Documents/GitHub/tvb-root/tvb_library/tvb/analyzers/fmri_balloon.py:314: VisibleDeprecationWarning: Creating an ndarray from ragged nested sequences (which is a list-or-tuple of lists-or-tuples-or ndarrays with different lengths or shapes) is deprecated. If you meant to do this, you must specify 'dtype=object' when creating the ndarray.\n",
      "  return numpy.array([k1, k2, k3])\n"
     ]
    }
   ],
   "source": [
    "#Create and run the monitor/analyser\n",
    "bold_model = bold.BalloonModel(time_series = tsr)\n",
    "bold_data  = bold_model.evaluate()"
   ]
  },
  {
   "cell_type": "code",
   "execution_count": 183,
   "id": "10046d23",
   "metadata": {},
   "outputs": [
    {
     "data": {
      "text/plain": [
       "Text(0.5, 0, 'Time (ms)')"
      ]
     },
     "execution_count": 183,
     "metadata": {},
     "output_type": "execute_result"
    },
    {
     "data": {
      "image/png": "[encoded data removed]",
      "text/plain": [
       "<Figure size 864x576 with 1 Axes>"
      ]
     },
     "metadata": {
      "needs_background": "light"
     },
     "output_type": "display_data"
    }
   ],
   "source": [
    "plt.figure(figsize=(12,8))\n",
    "\n",
    "#plt.subplot(212)\n",
    "plt.plot(bold_data.time[25000:45000], bold_data.data[25000:45000, 0, [42], 0])\n",
    "plt.ylabel(\"BOLD\")\n",
    "\n",
    "plt.xlabel('Time (ms)')"
   ]
  },
  {
   "cell_type": "markdown",
   "id": "9d684432",
   "metadata": {},
   "source": [
    "`tau_s` - kappa => doubling rate of signal decay leads to lesser response maximum and reduced undershoot  'rate constant of the vasodilatory signal decay'\n",
    "\n",
    "`tau_f` - gamma => doubling leads to half value, similar shape in terms of range but more pronounced overshoot & rebound 'rate constant for autoregulatory feedback by blood flow'\n",
    "\n",
    "`tau_o` - tau => mean transit time of blood, avg time blood takes to traverse venous compartment, corresponds to ratio of resting blood volume V_0 to resting blood floow F_0: V_0/F_0 'transit time'\n",
    "=> * 0.5 => big change, less undershoot - what other parameter change is this similar to? why?\n",
    "\n",
    "`alpha` - 'Stiffness parameter. Grubb's exponent.', could replace w Buxton's formulation but less generalisability (footnote 3 Stephan2007) => increase -> nonlinear increase in BOLD response - 2x alpha => ~50% increase in BOLD response, 10x alpha ~ 100% increase in BOLD response\n",
    "\n",
    "`E0` - increase -> BOLD decrease\n",
    "drop EO (oxygen extraction fraction) by 10% -> ~ 10x BOLD response - makes sense, signal is due to diamagnetic property of oxyhemoglobin\n",
    "increase E0 by 10% -> we get a negative valued BOLD response - doesn't make sense but a reduction would mean - more oxygen extracted -> more deoxyhemoglobin - less signal\n",
    "\n",
    "\n",
    "neither (`alpha`, `E0`) have ~ any effect on response shape"
   ]
  },
  {
   "cell_type": "markdown",
   "id": "bf96155f",
   "metadata": {},
   "source": [
    "# ~ extracting hemodynamic state equation parameters / new functionality"
   ]
  },
  {
   "cell_type": "code",
   "execution_count": null,
   "id": "e53361e5",
   "metadata": {},
   "outputs": [],
   "source": [
    "#~ lb.variables_of_interest = [\"V\", \"W\", \"Z\"]"
   ]
  },
  {
   "cell_type": "code",
   "execution_count": 141,
   "id": "5c57cd08",
   "metadata": {},
   "outputs": [],
   "source": [
    "%matplotlib inline"
   ]
  },
  {
   "cell_type": "code",
   "execution_count": 142,
   "id": "5d3fa3cb",
   "metadata": {},
   "outputs": [],
   "source": [
    "%load_ext autoreload"
   ]
  },
  {
   "cell_type": "code",
   "execution_count": 143,
   "id": "1d22ef9a",
   "metadata": {},
   "outputs": [],
   "source": [
    "%autoreload 2"
   ]
  },
  {
   "cell_type": "code",
   "execution_count": 144,
   "id": "51ecb4fc",
   "metadata": {},
   "outputs": [],
   "source": [
    "import numpy as np\n",
    "import matplotlib.pylab as plt"
   ]
  },
  {
   "cell_type": "code",
   "execution_count": 145,
   "id": "7f21d769",
   "metadata": {},
   "outputs": [],
   "source": [
    "from tvb.simulator.lab import *"
   ]
  },
  {
   "cell_type": "code",
   "execution_count": 146,
   "id": "fd2e0409",
   "metadata": {},
   "outputs": [],
   "source": [
    "from tvb.simulator.backend.nb_mpr import NbMPRBackend"
   ]
  },
  {
   "cell_type": "code",
   "execution_count": 147,
   "id": "c536742b",
   "metadata": {},
   "outputs": [],
   "source": [
    "N = 2\n",
    "conn = connectivity.Connectivity()\n",
    "conn.motif_all_to_all(number_of_regions=N)\n",
    "conn.centres_spherical(number_of_regions=N)\n",
    "conn.speed = np.r_[np.inf]"
   ]
  },
  {
   "cell_type": "code",
   "execution_count": 148,
   "id": "d5290e57",
   "metadata": {},
   "outputs": [],
   "source": [
    "conn.configure()"
   ]
  },
  {
   "cell_type": "code",
   "execution_count": 149,
   "id": "62aebeab",
   "metadata": {},
   "outputs": [],
   "source": [
    "weighting = patterns.StimuliRegion.get_default_weights(N)\n",
    "weighting[0] = 4.\n",
    "\n",
    "# temporal profile\n",
    "eqn_t = equations.Gaussian()\n",
    "eqn_t.parameters[\"midpoint\"] = 11000.0\n",
    "eqn_t.parameters[\"sigma\"] = 100.0\n",
    "\n",
    "stimulus = patterns.StimuliRegion(temporal=eqn_t,\n",
    "                                  connectivity=conn,\n",
    "                                  weight=weighting)"
   ]
  },
  {
   "cell_type": "code",
   "execution_count": 150,
   "id": "e1a76423",
   "metadata": {},
   "outputs": [],
   "source": [
    "sim = simulator.Simulator(\n",
    "    model = models.MontbrioPazoRoxin(),\n",
    "    connectivity = conn,\n",
    "    integrator = integrators.HeunStochastic(\n",
    "        dt = 0.01, \n",
    "        noise = noise.Additive(nsig=np.r_[0.01,0.02])\n",
    "    ),\n",
    "    initial_conditions=np.zeros( (1,2,N,1) ),\n",
    "    stimulus=stimulus,\n",
    "    monitors=[monitors.Raw()]\n",
    ").configure()"
   ]
  },
  {
   "cell_type": "code",
   "execution_count": 151,
   "id": "76ef2ed9",
   "metadata": {},
   "outputs": [],
   "source": [
    "backend = NbMPRBackend()"
   ]
  },
  {
   "cell_type": "code",
   "execution_count": 152,
   "id": "804dfd0a",
   "metadata": {},
   "outputs": [],
   "source": [
    "%%capture\n",
    "(raw_t, raw_d), = backend.run_sim(sim, simulation_length=30000)"
   ]
  },
  {
   "cell_type": "code",
   "execution_count": 153,
   "id": "2df3f051",
   "metadata": {},
   "outputs": [
    {
     "data": {
      "text/plain": [
       "((3000000,), (3000000, 2, 2, 1))"
      ]
     },
     "execution_count": 153,
     "metadata": {},
     "output_type": "execute_result"
    }
   ],
   "source": [
    "raw_t.shape, raw_d.shape"
   ]
  },
  {
   "cell_type": "code",
   "execution_count": 154,
   "id": "331fa1be",
   "metadata": {},
   "outputs": [
    {
     "data": {
      "text/plain": [
       "[<matplotlib.lines.Line2D at 0x7fa0f2abce10>,\n",
       " <matplotlib.lines.Line2D at 0x7fa0f2ea3290>]"
      ]
     },
     "execution_count": 154,
     "metadata": {},
     "output_type": "execute_result"
    },
    {
     "data": {
      "image/png": "[encoded data removed]",
      "text/plain": [
       "<Figure size 432x288 with 1 Axes>"
      ]
     },
     "metadata": {
      "needs_background": "light"
     },
     "output_type": "display_data"
    }
   ],
   "source": [
    "plt.plot(raw_t, raw_d[:, 0,:,0])"
   ]
  },
  {
   "cell_type": "code",
   "execution_count": 156,
   "id": "49de5aa9",
   "metadata": {},
   "outputs": [],
   "source": [
    "def replay_monitor(raw_d, sim):\n",
    "    \"\"\" Assumes that the raw_d was produced in consistency with the simulator used.\"\"\"\n",
    "    assert len(sim.monitors) == 1, \"Only one monitor at a time can be replayed.\"    \n",
    "    res = [out for out in [ sim.monitors[0].record(step, sim.model.observe(state)) for step, state in enumerate(raw_d)] if out is not None]\n",
    "    b_t, b_d = zip(*res)\n",
    "    b_t, b_d = np.array(b_t), np.array(b_d)\n",
    "    return b_t, b_d"
   ]
  },
  {
   "cell_type": "code",
   "execution_count": 160,
   "id": "2d0ede6f",
   "metadata": {},
   "outputs": [
    {
     "ename": "TraitTypeError",
     "evalue": "Valid kwargs for type <class 'tvb.simulator.monitors.Bold'> are: ('period', 'hrf_kernel', 'hrf_length', 'variables_of_interest', 'gid'). You have given: 'include_svars'",
     "output_type": "error",
     "traceback": [
      "\u001b[0;31m---------------------------------------------------------------------------\u001b[0m",
      "\u001b[0;31mTraitTypeError\u001b[0m                            Traceback (most recent call last)",
      "\u001b[0;32m/var/folders/bq/bstprmd126q56qjwwz0k0zcr0000gn/T/ipykernel_69120/793986914.py\u001b[0m in \u001b[0;36m<module>\u001b[0;34m\u001b[0m\n\u001b[1;32m      8\u001b[0m     \u001b[0minitial_conditions\u001b[0m\u001b[0;34m=\u001b[0m\u001b[0mnp\u001b[0m\u001b[0;34m.\u001b[0m\u001b[0mzeros\u001b[0m\u001b[0;34m(\u001b[0m \u001b[0;34m(\u001b[0m\u001b[0;36m1\u001b[0m\u001b[0;34m,\u001b[0m\u001b[0;36m2\u001b[0m\u001b[0;34m,\u001b[0m\u001b[0mN\u001b[0m\u001b[0;34m,\u001b[0m\u001b[0;36m1\u001b[0m\u001b[0;34m)\u001b[0m \u001b[0;34m)\u001b[0m\u001b[0;34m,\u001b[0m\u001b[0;34m\u001b[0m\u001b[0;34m\u001b[0m\u001b[0m\n\u001b[1;32m      9\u001b[0m     \u001b[0mstimulus\u001b[0m\u001b[0;34m=\u001b[0m\u001b[0mstimulus\u001b[0m\u001b[0;34m,\u001b[0m\u001b[0;34m\u001b[0m\u001b[0;34m\u001b[0m\u001b[0m\n\u001b[0;32m---> 10\u001b[0;31m     \u001b[0mmonitors\u001b[0m\u001b[0;34m=\u001b[0m\u001b[0;34m[\u001b[0m\u001b[0mmonitors\u001b[0m\u001b[0;34m.\u001b[0m\u001b[0mBold\u001b[0m\u001b[0;34m(\u001b[0m\u001b[0mperiod\u001b[0m\u001b[0;34m=\u001b[0m\u001b[0;36m10.\u001b[0m\u001b[0;34m,\u001b[0m \u001b[0minclude_svars\u001b[0m\u001b[0;34m=\u001b[0m\u001b[0;32mTrue\u001b[0m\u001b[0;34m)\u001b[0m\u001b[0;34m]\u001b[0m\u001b[0;34m,\u001b[0m \u001b[0;31m# period=500 #monitors.BoldBalloonWindkessel(period=10., V0=0.02, tau_s=0.65, alpha=0.32, include_svars=True)],\u001b[0m\u001b[0;34m\u001b[0m\u001b[0;34m\u001b[0m\u001b[0m\n\u001b[0m\u001b[1;32m     11\u001b[0m \u001b[0;34m\u001b[0m\u001b[0m\n\u001b[1;32m     12\u001b[0m ).configure()\n",
      "\u001b[0;32m~/Documents/GitHub/tvb-root/tvb_library/tvb/basic/neotraits/_core.py\u001b[0m in \u001b[0;36m__init__\u001b[0;34m(self, **kwargs)\u001b[0m\n\u001b[1;32m    221\u001b[0m                 raise TraitTypeError(\n\u001b[1;32m    222\u001b[0m                     'Valid kwargs for type {!r} are: {}. You have given: {!r}'.format(\n\u001b[0;32m--> 223\u001b[0;31m                         \u001b[0mcls\u001b[0m\u001b[0;34m,\u001b[0m \u001b[0mrepr\u001b[0m\u001b[0;34m(\u001b[0m\u001b[0mcls\u001b[0m\u001b[0;34m.\u001b[0m\u001b[0mdeclarative_attrs\u001b[0m\u001b[0;34m)\u001b[0m\u001b[0;34m,\u001b[0m \u001b[0mk\u001b[0m\u001b[0;34m\u001b[0m\u001b[0;34m\u001b[0m\u001b[0m\n\u001b[0m\u001b[1;32m    224\u001b[0m                     )\n\u001b[1;32m    225\u001b[0m                 )\n",
      "\u001b[0;31mTraitTypeError\u001b[0m: Valid kwargs for type <class 'tvb.simulator.monitors.Bold'> are: ('period', 'hrf_kernel', 'hrf_length', 'variables_of_interest', 'gid'). You have given: 'include_svars'"
     ]
    }
   ],
   "source": [
    "sim = simulator.Simulator(\n",
    "    model = models.MontbrioPazoRoxin(variables_of_interest=['r']),\n",
    "    connectivity = conn,\n",
    "    integrator = integrators.HeunStochastic(\n",
    "        dt = 0.01, \n",
    "        noise = noise.Additive(nsig=np.r_[0.01,0.02])\n",
    "    ),\n",
    "    initial_conditions=np.zeros( (1,2,N,1) ),\n",
    "    stimulus=stimulus,\n",
    "    monitors=[monitors.Bold(period=10., include_svars=True)], # period=500 #monitors.BoldBalloonWindkessel(period=10., V0=0.02, tau_s=0.65, alpha=0.32, include_svars=True)],\n",
    "\n",
    ").configure()"
   ]
  },
  {
   "cell_type": "code",
   "execution_count": 158,
   "id": "70ac3b3b",
   "metadata": {},
   "outputs": [],
   "source": [
    "b_t, b_d = replay_monitor(raw_d, sim)"
   ]
  },
  {
   "cell_type": "code",
   "execution_count": 159,
   "id": "b0ba5f17",
   "metadata": {},
   "outputs": [
    {
     "ename": "IndexError",
     "evalue": "index 1 is out of bounds for axis 1 with size 1",
     "output_type": "error",
     "traceback": [
      "\u001b[0;31m---------------------------------------------------------------------------\u001b[0m",
      "\u001b[0;31mIndexError\u001b[0m                                Traceback (most recent call last)",
      "\u001b[0;32m/var/folders/bq/bstprmd126q56qjwwz0k0zcr0000gn/T/ipykernel_69120/70636552.py\u001b[0m in \u001b[0;36m<module>\u001b[0;34m\u001b[0m\n\u001b[1;32m      3\u001b[0m \u001b[0maxs\u001b[0m\u001b[0;34m[\u001b[0m\u001b[0;36m0\u001b[0m\u001b[0;34m]\u001b[0m\u001b[0;34m.\u001b[0m\u001b[0mset\u001b[0m\u001b[0;34m(\u001b[0m\u001b[0mylabel\u001b[0m\u001b[0;34m=\u001b[0m\u001b[0;34m'r'\u001b[0m\u001b[0;34m)\u001b[0m\u001b[0;34m\u001b[0m\u001b[0;34m\u001b[0m\u001b[0m\n\u001b[1;32m      4\u001b[0m \u001b[0;32mfor\u001b[0m \u001b[0mi\u001b[0m\u001b[0;34m,\u001b[0m \u001b[0;34m(\u001b[0m\u001b[0max\u001b[0m\u001b[0;34m,\u001b[0m \u001b[0mlabel\u001b[0m\u001b[0;34m)\u001b[0m \u001b[0;32min\u001b[0m \u001b[0menumerate\u001b[0m\u001b[0;34m(\u001b[0m \u001b[0mzip\u001b[0m\u001b[0;34m(\u001b[0m\u001b[0maxs\u001b[0m\u001b[0;34m[\u001b[0m\u001b[0;36m1\u001b[0m\u001b[0;34m:\u001b[0m\u001b[0;34m]\u001b[0m\u001b[0;34m,\u001b[0m \u001b[0;34m[\u001b[0m\u001b[0;34m'BOLD'\u001b[0m\u001b[0;34m,\u001b[0m \u001b[0;34m's'\u001b[0m\u001b[0;34m,\u001b[0m \u001b[0;34m'f'\u001b[0m\u001b[0;34m,\u001b[0m \u001b[0;34m'v'\u001b[0m\u001b[0;34m,\u001b[0m \u001b[0;34m'q'\u001b[0m\u001b[0;34m]\u001b[0m\u001b[0;34m)\u001b[0m\u001b[0;34m)\u001b[0m\u001b[0;34m:\u001b[0m\u001b[0;34m\u001b[0m\u001b[0;34m\u001b[0m\u001b[0m\n\u001b[0;32m----> 5\u001b[0;31m     \u001b[0max\u001b[0m\u001b[0;34m.\u001b[0m\u001b[0mplot\u001b[0m\u001b[0;34m(\u001b[0m\u001b[0mb_t\u001b[0m\u001b[0;34m[\u001b[0m\u001b[0;34m:\u001b[0m\u001b[0;34m]\u001b[0m\u001b[0;34m,\u001b[0m \u001b[0mb_d\u001b[0m\u001b[0;34m[\u001b[0m\u001b[0;34m:\u001b[0m\u001b[0;34m,\u001b[0m\u001b[0mi\u001b[0m\u001b[0;34m,\u001b[0m\u001b[0;36m0\u001b[0m\u001b[0;34m,\u001b[0m\u001b[0;36m0\u001b[0m\u001b[0;34m]\u001b[0m\u001b[0;34m)\u001b[0m\u001b[0;34m\u001b[0m\u001b[0;34m\u001b[0m\u001b[0m\n\u001b[0m\u001b[1;32m      6\u001b[0m     \u001b[0max\u001b[0m\u001b[0;34m.\u001b[0m\u001b[0mset\u001b[0m\u001b[0;34m(\u001b[0m\u001b[0mylabel\u001b[0m\u001b[0;34m=\u001b[0m\u001b[0mlabel\u001b[0m\u001b[0;34m)\u001b[0m\u001b[0;34m\u001b[0m\u001b[0;34m\u001b[0m\u001b[0m\n",
      "\u001b[0;31mIndexError\u001b[0m: index 1 is out of bounds for axis 1 with size 1"
     ]
    },
    {
     "data": {
      "image/png": "[encoded data removed]",
      "text/plain": [
       "<Figure size 576x720 with 6 Axes>"
      ]
     },
     "metadata": {
      "needs_background": "light"
     },
     "output_type": "display_data"
    }
   ],
   "source": [
    "fig, axs = plt.subplots(nrows=6, sharex=True, figsize=(8,10))\n",
    "axs[0].plot(raw_t,raw_d[:,0,0,0])\n",
    "axs[0].set(ylabel='r')\n",
    "for i, (ax, label) in enumerate( zip(axs[1:], ['BOLD', 's', 'f', 'v', 'q'])):\n",
    "    ax.plot(b_t[:], b_d[:,i,0,0])\n",
    "    ax.set(ylabel=label)"
   ]
  },
  {
   "cell_type": "code",
   "execution_count": null,
   "id": "96b139ad",
   "metadata": {},
   "outputs": [],
   "source": [
    "conn = connectivity.Connectivity.from_file()\n",
    "\n",
    "# configure stimulus spatial pattern\n",
    "weighting = numpy.zeros((76, ))\n",
    "weighting[[0, 7, 13, 33, 42]] = numpy.array([2.0 ** -2, 2.0 ** -3, 2.0 ** -4, 2.0 ** -5, 2.0 ** -6])\n",
    "\n",
    "# temporal profile\n",
    "eqn_t = equations.Gaussian()\n",
    "eqn_t.parameters[\"midpoint\"] = 25000.0\n",
    "eqn_t.parameters[\"sigma\"] = 1.0 #2000.0\n",
    "\n",
    "stimulus = patterns.StimuliRegion(temporal=eqn_t,\n",
    "                                  connectivity=conn,\n",
    "                                  weight=weighting)\n",
    "\n",
    "sim = simulator.Simulator(\n",
    "    model=models.Generic2dOscillator(a=numpy.array([0.5])),\n",
    "    connectivity=conn,\n",
    "    coupling=coupling.Linear(a=numpy.array([0.0126])),\n",
    "    integrator=integrators.HeunDeterministic(dt=0.5),\n",
    "    monitors=(\n",
    "        monitors.TemporalAverage(period=1.0),\n",
    "        monitors.Bold(period=500),\n",
    "        monitors.ProgressLogger(period=5e3),\n",
    "        ),\n",
    "    stimulus=stimulus,\n",
    "    simulation_length=60e3, # 1 minute simulation\n",
    ").configure()\n",
    "\n",
    "(tavg_time, tavg_data), (bold_time, bold_data), _ = sim.run()\n",
    "\n",
    "#Make the lists numpy.arrays for easier use.\n",
    "LOG.info(\"Converting result to array...\")\n",
    "TAVG_TIME = numpy.array(tavg_time)\n",
    "BOLD_TIME = numpy.array(bold_time)\n",
    "BOLD = numpy.array(bold_data)\n",
    "TAVG = numpy.array(tavg_data)\n",
    "\n",
    "#Create TimeSeries instance\n",
    "tsr = TimeSeriesRegion(connectivity = conn,  # inc'd this\n",
    "                       data = TAVG,\n",
    "                       time = TAVG_TIME,\n",
    "                       sample_period = 2.)\n",
    "tsr.configure()\n",
    "\n",
    "#Create and run the monitor/analyser\n",
    "bold_model = bold.BalloonModel(time_series = tsr)\n",
    "bold_data  = bold_model.evaluate()\n",
    "\n",
    "plt.figure(figsize=(12,8))\n",
    "\n",
    "#plt.subplot(212)\n",
    "plt.plot(bold_data.time[25000:45000], bold_data.data[25000:45000, 0, [42], 0])\n",
    "plt.ylabel(\"BOLD\")\n",
    "\n",
    "plt.xlabel('Time (ms)')"
   ]
  },
  {
   "cell_type": "code",
   "execution_count": null,
   "id": "0ac88393",
   "metadata": {},
   "outputs": [],
   "source": []
  }
 ],
 "metadata": {
  "kernelspec": {
   "display_name": "mac-distribution",
   "language": "python",
   "name": "mac-distribution"
  },
  "language_info": {
   "codemirror_mode": {
    "name": "ipython",
    "version": 3
   },
   "file_extension": ".py",
   "mimetype": "text/x-python",
   "name": "python",
   "nbconvert_exporter": "python",
   "pygments_lexer": "ipython3",
   "version": "3.7.13"
  }
 },
 "nbformat": 4,
 "nbformat_minor": 5
}
